{
 "cells": [
  {
   "cell_type": "code",
   "execution_count": 17,
   "id": "0c575006",
   "metadata": {},
   "outputs": [],
   "source": [
    "import pandas as pd \n",
    "import numpy as np"
   ]
  },
  {
   "cell_type": "code",
   "execution_count": 3,
   "id": "98f05549",
   "metadata": {},
   "outputs": [
    {
     "data": {
      "text/plain": [
       "PassengerId      0\n",
       "Survived         0\n",
       "Pclass           0\n",
       "Name             0\n",
       "Sex              0\n",
       "Age             86\n",
       "SibSp            0\n",
       "Parch            0\n",
       "Ticket           0\n",
       "Fare             1\n",
       "Cabin          327\n",
       "Embarked         0\n",
       "dtype: int64"
      ]
     },
     "execution_count": 3,
     "metadata": {},
     "output_type": "execute_result"
    }
   ],
   "source": [
    "df.isnull().sum()"
   ]
  },
  {
   "cell_type": "code",
   "execution_count": 4,
   "id": "2e818e28",
   "metadata": {},
   "outputs": [
    {
     "data": {
      "text/plain": [
       "30.272590361445783"
      ]
     },
     "execution_count": 4,
     "metadata": {},
     "output_type": "execute_result"
    }
   ],
   "source": [
    "avg = df['Age'].mean()\n",
    "avg"
   ]
  },
  {
   "cell_type": "code",
   "execution_count": 6,
   "id": "4ab9cb72",
   "metadata": {},
   "outputs": [],
   "source": [
    "df['Age']= df['Age'].fillna(avg)"
   ]
  },
  {
   "cell_type": "code",
   "execution_count": 8,
   "id": "4eded10d",
   "metadata": {},
   "outputs": [
    {
     "data": {
      "text/plain": [
       "PassengerId      0\n",
       "Survived         0\n",
       "Pclass           0\n",
       "Name             0\n",
       "Sex              0\n",
       "Age              0\n",
       "SibSp            0\n",
       "Parch            0\n",
       "Ticket           0\n",
       "Fare             1\n",
       "Cabin          327\n",
       "Embarked         0\n",
       "dtype: int64"
      ]
     },
     "execution_count": 8,
     "metadata": {},
     "output_type": "execute_result"
    }
   ],
   "source": [
    "df.isnull().sum()"
   ]
  },
  {
   "cell_type": "code",
   "execution_count": 17,
   "id": "21dd447d",
   "metadata": {},
   "outputs": [
    {
     "data": {
      "text/html": [
       "<div>\n",
       "<style scoped>\n",
       "    .dataframe tbody tr th:only-of-type {\n",
       "        vertical-align: middle;\n",
       "    }\n",
       "\n",
       "    .dataframe tbody tr th {\n",
       "        vertical-align: top;\n",
       "    }\n",
       "\n",
       "    .dataframe thead th {\n",
       "        text-align: right;\n",
       "    }\n",
       "</style>\n",
       "<table border=\"1\" class=\"dataframe\">\n",
       "  <thead>\n",
       "    <tr style=\"text-align: right;\">\n",
       "      <th></th>\n",
       "      <th>PassengerId</th>\n",
       "      <th>Survived</th>\n",
       "      <th>Pclass</th>\n",
       "      <th>Name</th>\n",
       "      <th>Sex</th>\n",
       "      <th>Age</th>\n",
       "      <th>SibSp</th>\n",
       "      <th>Parch</th>\n",
       "      <th>Ticket</th>\n",
       "      <th>Fare</th>\n",
       "      <th>Cabin</th>\n",
       "      <th>Embarked</th>\n",
       "    </tr>\n",
       "  </thead>\n",
       "  <tbody>\n",
       "    <tr>\n",
       "      <th>0</th>\n",
       "      <td>892</td>\n",
       "      <td>0</td>\n",
       "      <td>3</td>\n",
       "      <td>Kelly, Mr. James</td>\n",
       "      <td>male</td>\n",
       "      <td>34.50000</td>\n",
       "      <td>0</td>\n",
       "      <td>0</td>\n",
       "      <td>330911</td>\n",
       "      <td>7.8292</td>\n",
       "      <td>NaN</td>\n",
       "      <td>Q</td>\n",
       "    </tr>\n",
       "    <tr>\n",
       "      <th>1</th>\n",
       "      <td>893</td>\n",
       "      <td>1</td>\n",
       "      <td>3</td>\n",
       "      <td>Wilkes, Mrs. James (Ellen Needs)</td>\n",
       "      <td>female</td>\n",
       "      <td>47.00000</td>\n",
       "      <td>1</td>\n",
       "      <td>0</td>\n",
       "      <td>363272</td>\n",
       "      <td>7.0000</td>\n",
       "      <td>NaN</td>\n",
       "      <td>S</td>\n",
       "    </tr>\n",
       "    <tr>\n",
       "      <th>2</th>\n",
       "      <td>894</td>\n",
       "      <td>0</td>\n",
       "      <td>2</td>\n",
       "      <td>Myles, Mr. Thomas Francis</td>\n",
       "      <td>male</td>\n",
       "      <td>62.00000</td>\n",
       "      <td>0</td>\n",
       "      <td>0</td>\n",
       "      <td>240276</td>\n",
       "      <td>9.6875</td>\n",
       "      <td>NaN</td>\n",
       "      <td>Q</td>\n",
       "    </tr>\n",
       "    <tr>\n",
       "      <th>3</th>\n",
       "      <td>895</td>\n",
       "      <td>0</td>\n",
       "      <td>3</td>\n",
       "      <td>Wirz, Mr. Albert</td>\n",
       "      <td>male</td>\n",
       "      <td>27.00000</td>\n",
       "      <td>0</td>\n",
       "      <td>0</td>\n",
       "      <td>315154</td>\n",
       "      <td>8.6625</td>\n",
       "      <td>NaN</td>\n",
       "      <td>S</td>\n",
       "    </tr>\n",
       "    <tr>\n",
       "      <th>4</th>\n",
       "      <td>896</td>\n",
       "      <td>1</td>\n",
       "      <td>3</td>\n",
       "      <td>Hirvonen, Mrs. Alexander (Helga E Lindqvist)</td>\n",
       "      <td>female</td>\n",
       "      <td>22.00000</td>\n",
       "      <td>1</td>\n",
       "      <td>1</td>\n",
       "      <td>3101298</td>\n",
       "      <td>12.2875</td>\n",
       "      <td>NaN</td>\n",
       "      <td>S</td>\n",
       "    </tr>\n",
       "    <tr>\n",
       "      <th>...</th>\n",
       "      <td>...</td>\n",
       "      <td>...</td>\n",
       "      <td>...</td>\n",
       "      <td>...</td>\n",
       "      <td>...</td>\n",
       "      <td>...</td>\n",
       "      <td>...</td>\n",
       "      <td>...</td>\n",
       "      <td>...</td>\n",
       "      <td>...</td>\n",
       "      <td>...</td>\n",
       "      <td>...</td>\n",
       "    </tr>\n",
       "    <tr>\n",
       "      <th>413</th>\n",
       "      <td>1305</td>\n",
       "      <td>0</td>\n",
       "      <td>3</td>\n",
       "      <td>Spector, Mr. Woolf</td>\n",
       "      <td>male</td>\n",
       "      <td>30.27259</td>\n",
       "      <td>0</td>\n",
       "      <td>0</td>\n",
       "      <td>A.5. 3236</td>\n",
       "      <td>8.0500</td>\n",
       "      <td>NaN</td>\n",
       "      <td>S</td>\n",
       "    </tr>\n",
       "    <tr>\n",
       "      <th>414</th>\n",
       "      <td>1306</td>\n",
       "      <td>1</td>\n",
       "      <td>1</td>\n",
       "      <td>Oliva y Ocana, Dona. Fermina</td>\n",
       "      <td>female</td>\n",
       "      <td>39.00000</td>\n",
       "      <td>0</td>\n",
       "      <td>0</td>\n",
       "      <td>PC 17758</td>\n",
       "      <td>108.9000</td>\n",
       "      <td>NaN</td>\n",
       "      <td>C</td>\n",
       "    </tr>\n",
       "    <tr>\n",
       "      <th>415</th>\n",
       "      <td>1307</td>\n",
       "      <td>0</td>\n",
       "      <td>3</td>\n",
       "      <td>Saether, Mr. Simon Sivertsen</td>\n",
       "      <td>male</td>\n",
       "      <td>38.50000</td>\n",
       "      <td>0</td>\n",
       "      <td>0</td>\n",
       "      <td>SOTON/O.Q. 3101262</td>\n",
       "      <td>7.2500</td>\n",
       "      <td>NaN</td>\n",
       "      <td>S</td>\n",
       "    </tr>\n",
       "    <tr>\n",
       "      <th>416</th>\n",
       "      <td>1308</td>\n",
       "      <td>0</td>\n",
       "      <td>3</td>\n",
       "      <td>Ware, Mr. Frederick</td>\n",
       "      <td>male</td>\n",
       "      <td>30.27259</td>\n",
       "      <td>0</td>\n",
       "      <td>0</td>\n",
       "      <td>359309</td>\n",
       "      <td>8.0500</td>\n",
       "      <td>NaN</td>\n",
       "      <td>S</td>\n",
       "    </tr>\n",
       "    <tr>\n",
       "      <th>417</th>\n",
       "      <td>1309</td>\n",
       "      <td>0</td>\n",
       "      <td>3</td>\n",
       "      <td>Peter, Master. Michael J</td>\n",
       "      <td>male</td>\n",
       "      <td>30.27259</td>\n",
       "      <td>1</td>\n",
       "      <td>1</td>\n",
       "      <td>2668</td>\n",
       "      <td>22.3583</td>\n",
       "      <td>NaN</td>\n",
       "      <td>C</td>\n",
       "    </tr>\n",
       "  </tbody>\n",
       "</table>\n",
       "<p>418 rows × 12 columns</p>\n",
       "</div>"
      ],
      "text/plain": [
       "     PassengerId  Survived  Pclass  \\\n",
       "0            892         0       3   \n",
       "1            893         1       3   \n",
       "2            894         0       2   \n",
       "3            895         0       3   \n",
       "4            896         1       3   \n",
       "..           ...       ...     ...   \n",
       "413         1305         0       3   \n",
       "414         1306         1       1   \n",
       "415         1307         0       3   \n",
       "416         1308         0       3   \n",
       "417         1309         0       3   \n",
       "\n",
       "                                             Name     Sex       Age  SibSp  \\\n",
       "0                                Kelly, Mr. James    male  34.50000      0   \n",
       "1                Wilkes, Mrs. James (Ellen Needs)  female  47.00000      1   \n",
       "2                       Myles, Mr. Thomas Francis    male  62.00000      0   \n",
       "3                                Wirz, Mr. Albert    male  27.00000      0   \n",
       "4    Hirvonen, Mrs. Alexander (Helga E Lindqvist)  female  22.00000      1   \n",
       "..                                            ...     ...       ...    ...   \n",
       "413                            Spector, Mr. Woolf    male  30.27259      0   \n",
       "414                  Oliva y Ocana, Dona. Fermina  female  39.00000      0   \n",
       "415                  Saether, Mr. Simon Sivertsen    male  38.50000      0   \n",
       "416                           Ware, Mr. Frederick    male  30.27259      0   \n",
       "417                      Peter, Master. Michael J    male  30.27259      1   \n",
       "\n",
       "     Parch              Ticket      Fare  Cabin Embarked  \n",
       "0        0              330911    7.8292    NaN        Q  \n",
       "1        0              363272    7.0000    NaN        S  \n",
       "2        0              240276    9.6875    NaN        Q  \n",
       "3        0              315154    8.6625    NaN        S  \n",
       "4        1             3101298   12.2875    NaN        S  \n",
       "..     ...                 ...       ...    ...      ...  \n",
       "413      0           A.5. 3236    8.0500    NaN        S  \n",
       "414      0            PC 17758  108.9000    NaN        C  \n",
       "415      0  SOTON/O.Q. 3101262    7.2500    NaN        S  \n",
       "416      0              359309    8.0500    NaN        S  \n",
       "417      1                2668   22.3583    NaN        C  \n",
       "\n",
       "[418 rows x 12 columns]"
      ]
     },
     "execution_count": 17,
     "metadata": {},
     "output_type": "execute_result"
    }
   ],
   "source": [
    "df['Cabin'] = pd.to_numeric(df['Cabin'], errors='coerce')  \n",
    "mean_cabin = df['Cabin'].mean()\n",
    "df\n",
    "\n"
   ]
  },
  {
   "cell_type": "code",
   "execution_count": 19,
   "id": "c8056a33",
   "metadata": {},
   "outputs": [
    {
     "data": {
      "text/plain": [
       "PassengerId      0\n",
       "Survived         0\n",
       "Pclass           0\n",
       "Name             0\n",
       "Sex              0\n",
       "Age              0\n",
       "SibSp            0\n",
       "Parch            0\n",
       "Ticket           0\n",
       "Fare             1\n",
       "Cabin          418\n",
       "Embarked         0\n",
       "dtype: int64"
      ]
     },
     "execution_count": 19,
     "metadata": {},
     "output_type": "execute_result"
    }
   ],
   "source": [
    "df.isnull().sum()"
   ]
  },
  {
   "cell_type": "code",
   "execution_count": 20,
   "id": "d33c1690",
   "metadata": {},
   "outputs": [
    {
     "data": {
      "text/plain": [
       "35.6271884892086"
      ]
     },
     "execution_count": 20,
     "metadata": {},
     "output_type": "execute_result"
    }
   ],
   "source": [
    "avg = df['Fare'].mean()\n",
    "avg"
   ]
  },
  {
   "cell_type": "code",
   "execution_count": 21,
   "id": "1c4b23de",
   "metadata": {},
   "outputs": [],
   "source": [
    "df['Fare']= df['Fare'].fillna(avg)"
   ]
  },
  {
   "cell_type": "code",
   "execution_count": 22,
   "id": "a48ca337",
   "metadata": {},
   "outputs": [
    {
     "data": {
      "text/plain": [
       "PassengerId      0\n",
       "Survived         0\n",
       "Pclass           0\n",
       "Name             0\n",
       "Sex              0\n",
       "Age              0\n",
       "SibSp            0\n",
       "Parch            0\n",
       "Ticket           0\n",
       "Fare             0\n",
       "Cabin          418\n",
       "Embarked         0\n",
       "dtype: int64"
      ]
     },
     "execution_count": 22,
     "metadata": {},
     "output_type": "execute_result"
    }
   ],
   "source": [
    "df.isnull().sum()"
   ]
  },
  {
   "cell_type": "code",
   "execution_count": 23,
   "id": "066c1c39",
   "metadata": {},
   "outputs": [
    {
     "data": {
      "text/plain": [
       "nan"
      ]
     },
     "execution_count": 23,
     "metadata": {},
     "output_type": "execute_result"
    }
   ],
   "source": [
    "avg = df['Cabin'].mean()\n",
    "avg"
   ]
  },
  {
   "cell_type": "code",
   "execution_count": 28,
   "id": "b70ab93b",
   "metadata": {},
   "outputs": [],
   "source": [
    "df['Cabin']= df['Cabin'].fillna(avg)"
   ]
  },
  {
   "cell_type": "code",
   "execution_count": 27,
   "id": "1493ae13",
   "metadata": {},
   "outputs": [
    {
     "data": {
      "text/plain": [
       "PassengerId      0\n",
       "Survived         0\n",
       "Pclass           0\n",
       "Name             0\n",
       "Sex              0\n",
       "Age              0\n",
       "SibSp            0\n",
       "Parch            0\n",
       "Ticket           0\n",
       "Fare             0\n",
       "Cabin          418\n",
       "Embarked         0\n",
       "dtype: int64"
      ]
     },
     "execution_count": 27,
     "metadata": {},
     "output_type": "execute_result"
    }
   ],
   "source": [
    "df.isnull().sum()"
   ]
  },
  {
   "cell_type": "code",
   "execution_count": 33,
   "id": "85b1e215",
   "metadata": {},
   "outputs": [
    {
     "data": {
      "text/plain": [
       "PassengerId    0\n",
       "Survived       0\n",
       "Pclass         0\n",
       "Name           0\n",
       "Sex            0\n",
       "Age            0\n",
       "SibSp          0\n",
       "Parch          0\n",
       "Ticket         0\n",
       "Fare           0\n",
       "Cabin          0\n",
       "Embarked       0\n",
       "dtype: int64"
      ]
     },
     "execution_count": 33,
     "metadata": {},
     "output_type": "execute_result"
    }
   ],
   "source": [
    "df['Cabin'] = df['Cabin'].fillna('Unknown')\n",
    "unique_cabins = df['Cabin'].unique()\n",
    "\n",
    "# Check for missing values after filling 'Cabin'\n",
    "df.isnull().sum()"
   ]
  },
  {
   "cell_type": "code",
   "execution_count": 6,
   "id": "f09d3ebd",
   "metadata": {},
   "outputs": [],
   "source": [
    "import pandas as pd\n",
    "import numpy as np\n",
    "# Read the CSV file\n",
    "df = pd.read_csv('tested.csv')"
   ]
  },
  {
   "cell_type": "code",
   "execution_count": 7,
   "id": "535e8058",
   "metadata": {},
   "outputs": [],
   "source": [
    "# Handle missing values in 'Age', 'Fare', and 'Cabin'\n",
    "avg_age = df['Age'].mean()\n",
    "df['Age'] = df['Age'].fillna(avg_age)\n"
   ]
  },
  {
   "cell_type": "code",
   "execution_count": 8,
   "id": "58362d44",
   "metadata": {},
   "outputs": [],
   "source": [
    "avg_fare = df['Fare'].mean()\n",
    "df['Fare'] = df['Fare'].fillna(avg_fare)"
   ]
  },
  {
   "cell_type": "code",
   "execution_count": 15,
   "id": "b06de485",
   "metadata": {},
   "outputs": [],
   "source": [
    "df['Cabin'] = pd.to_numeric(df['Cabin'], errors='coerce')\n",
    "mean_cabin = df['Cabin'].mean()\n",
    "df['Cabin'] = df['Cabin'].fillna(mean_cabin)\n",
    "df['Cabin'] = df['Cabin'].fillna('C1')"
   ]
  },
  {
   "cell_type": "code",
   "execution_count": 16,
   "id": "b18da758",
   "metadata": {},
   "outputs": [],
   "source": [
    "# Identify and handle outliers in 'Age', 'Fare', and 'Cabin'\n",
    "def handle_outliers(column):\n",
    "    column = column.copy()  # Create a copy to avoid the SettingWithCopyWarning\n",
    "    if pd.api.types.is_numeric_dtype(column):\n",
    "        Q1 = np.percentile(column, 25)\n",
    "        Q3 = np.percentile(column, 75)\n",
    "        IQR = Q3 - Q1\n",
    "        lower_bound = Q1 - 1.5 * IQR\n",
    "        upper_bound = Q3 + 1.5 * IQR\n",
    "        column[(column < lower_bound) | (column > upper_bound)] = np.nan\n",
    "    return column"
   ]
  },
  {
   "cell_type": "code",
   "execution_count": 13,
   "id": "987482b5",
   "metadata": {},
   "outputs": [
    {
     "data": {
      "text/plain": [
       "PassengerId    0\n",
       "Survived       0\n",
       "Pclass         0\n",
       "Name           0\n",
       "Sex            0\n",
       "Age            0\n",
       "SibSp          0\n",
       "Parch          0\n",
       "Ticket         0\n",
       "Fare           0\n",
       "Cabin          0\n",
       "Embarked       0\n",
       "dtype: int64"
      ]
     },
     "execution_count": 13,
     "metadata": {},
     "output_type": "execute_result"
    }
   ],
   "source": [
    "df['Age'] = handle_outliers(df['Age'])\n",
    "df['Fare'] = handle_outliers(df['Fare'])\n",
    "df['Cabin'] = handle_outliers(df['Cabin'])\n",
    "\n",
    "# Replace missing values after handling outliers\n",
    "df['Age'] = df['Age'].fillna(avg_age)\n",
    "df['Fare'] = df['Fare'].fillna(avg_fare)\n",
    "df['Cabin'] = df['Cabin'].fillna(mean_cabin)\n",
    "\n",
    "# Check for missing values after handling outliers\n",
    "df.isnull().sum()"
   ]
  },
  {
   "cell_type": "code",
   "execution_count": 14,
   "id": "5c3a9770",
   "metadata": {},
   "outputs": [
    {
     "name": "stdout",
     "output_type": "stream",
     "text": [
      "     PassengerId  Survived  Pclass  \\\n",
      "0            892         0       3   \n",
      "1            893         1       3   \n",
      "2            894         0       2   \n",
      "3            895         0       3   \n",
      "4            896         1       3   \n",
      "..           ...       ...     ...   \n",
      "413         1305         0       3   \n",
      "414         1306         1       1   \n",
      "415         1307         0       3   \n",
      "416         1308         0       3   \n",
      "417         1309         0       3   \n",
      "\n",
      "                                             Name     Sex       Age  SibSp  \\\n",
      "0                                Kelly, Mr. James    male  34.50000      0   \n",
      "1                Wilkes, Mrs. James (Ellen Needs)  female  47.00000      1   \n",
      "2                       Myles, Mr. Thomas Francis    male  30.27259      0   \n",
      "3                                Wirz, Mr. Albert    male  27.00000      0   \n",
      "4    Hirvonen, Mrs. Alexander (Helga E Lindqvist)  female  22.00000      1   \n",
      "..                                            ...     ...       ...    ...   \n",
      "413                            Spector, Mr. Woolf    male  30.27259      0   \n",
      "414                  Oliva y Ocana, Dona. Fermina  female  39.00000      0   \n",
      "415                  Saether, Mr. Simon Sivertsen    male  38.50000      0   \n",
      "416                           Ware, Mr. Frederick    male  30.27259      0   \n",
      "417                      Peter, Master. Michael J    male  30.27259      1   \n",
      "\n",
      "     Parch              Ticket       Fare    Cabin Embarked  \n",
      "0        0              330911   7.829200  Unknown        Q  \n",
      "1        0              363272   7.000000  Unknown        S  \n",
      "2        0              240276   9.687500  Unknown        Q  \n",
      "3        0              315154   8.662500  Unknown        S  \n",
      "4        1             3101298  12.287500  Unknown        S  \n",
      "..     ...                 ...        ...      ...      ...  \n",
      "413      0           A.5. 3236   8.050000  Unknown        S  \n",
      "414      0            PC 17758  35.627188  Unknown        C  \n",
      "415      0  SOTON/O.Q. 3101262   7.250000  Unknown        S  \n",
      "416      0              359309   8.050000  Unknown        S  \n",
      "417      1                2668  22.358300  Unknown        C  \n",
      "\n",
      "[418 rows x 12 columns]\n"
     ]
    }
   ],
   "source": [
    "print(df)"
   ]
  },
  {
   "cell_type": "code",
   "execution_count": null,
   "id": "b45b1ead",
   "metadata": {},
   "outputs": [],
   "source": []
  }
 ],
 "metadata": {
  "kernelspec": {
   "display_name": "Python 3 (ipykernel)",
   "language": "python",
   "name": "python3"
  },
  "language_info": {
   "codemirror_mode": {
    "name": "ipython",
    "version": 3
   },
   "file_extension": ".py",
   "mimetype": "text/x-python",
   "name": "python",
   "nbconvert_exporter": "python",
   "pygments_lexer": "ipython3",
   "version": "3.9.13"
  }
 },
 "nbformat": 4,
 "nbformat_minor": 5
}
